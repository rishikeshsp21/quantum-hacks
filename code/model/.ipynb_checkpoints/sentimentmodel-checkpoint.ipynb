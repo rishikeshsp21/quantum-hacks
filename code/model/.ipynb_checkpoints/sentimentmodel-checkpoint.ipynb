{
 "cells": [
  {
   "cell_type": "code",
   "execution_count": null,
   "metadata": {
    "id": "z682XYsrjkY9"
   },
   "outputs": [],
   "source": [
    "import numpy as np\n",
    "\n",
    "import tensorflow_datasets as tfds\n",
    "import tensorflow as tf\n",
    "\n",
    "tfds.disable_progress_bar()"
   ]
  },
  {
   "cell_type": "code",
   "execution_count": null,
   "metadata": {
    "id": "Mp1Z7P9pYRSK"
   },
   "outputs": [],
   "source": [
    "import matplotlib.pyplot as plt\n",
    "\n",
    "\n",
    "def plot_graphs(history, metric):\n",
    "  plt.plot(history.history[metric])\n",
    "  plt.plot(history.history['val_'+metric], '')\n",
    "  plt.xlabel(\"Epochs\")\n",
    "  plt.ylabel(metric)\n",
    "  plt.legend([metric, 'val_'+metric])"
   ]
  },
  {
   "cell_type": "code",
   "execution_count": null,
   "metadata": {
    "colab": {
     "base_uri": "https://localhost:8080/"
    },
    "id": "SHRwRoP2nVHX",
    "outputId": "618ea093-6c21-423b-b88b-f355f766e8f1"
   },
   "outputs": [
    {
     "data": {
      "text/plain": [
       "(TensorSpec(shape=(), dtype=tf.string, name=None),\n",
       " TensorSpec(shape=(), dtype=tf.int64, name=None))"
      ]
     },
     "execution_count": 3,
     "metadata": {},
     "output_type": "execute_result"
    }
   ],
   "source": [
    "dataset, info = tfds.load('imdb_reviews', with_info=True,\n",
    "                          as_supervised=True)\n",
    "train_dataset, test_dataset = dataset['train'], dataset['test']\n",
    "\n",
    "train_dataset.element_spec"
   ]
  },
  {
   "cell_type": "code",
   "execution_count": null,
   "metadata": {
    "colab": {
     "base_uri": "https://localhost:8080/"
    },
    "id": "vd4_BGKyurao",
    "outputId": "eb845b6e-7e85-40ce-930d-7a6d3e9fc868"
   },
   "outputs": [
    {
     "name": "stdout",
     "output_type": "stream",
     "text": [
      "text:  b\"This was an absolutely terrible movie. Don't be lured in by Christopher Walken or Michael Ironside. Both are great actors, but this must simply be their worst role in history. Even their great acting could not redeem this movie's ridiculous storyline. This movie is an early nineties US propaganda piece. The most pathetic scenes were those when the Columbian rebels were making their cases for revolutions. Maria Conchita Alonso appeared phony, and her pseudo-love affair with Walken was nothing but a pathetic emotional plug in a movie that was devoid of any real meaning. I am disappointed that there are movies like this, ruining actor's like Christopher Walken's good name. I could barely sit through it.\"\n",
      "label:  0\n"
     ]
    }
   ],
   "source": [
    "for example, label in train_dataset.take(1):\n",
    "  print('text: ', example.numpy())\n",
    "  print('label: ', label.numpy())"
   ]
  },
  {
   "cell_type": "code",
   "execution_count": null,
   "metadata": {
    "id": "dDsCaZCDYZgm"
   },
   "outputs": [],
   "source": [
    "BUFFER_SIZE = 10000\n",
    "BATCH_SIZE = 64"
   ]
  },
  {
   "cell_type": "code",
   "execution_count": null,
   "metadata": {
    "id": "VznrltNOnUc5"
   },
   "outputs": [],
   "source": [
    "train_dataset = train_dataset.shuffle(BUFFER_SIZE).batch(BATCH_SIZE).prefetch(tf.data.AUTOTUNE)\n",
    "test_dataset = test_dataset.batch(BATCH_SIZE).prefetch(tf.data.AUTOTUNE)"
   ]
  },
  {
   "cell_type": "code",
   "execution_count": null,
   "metadata": {
    "colab": {
     "base_uri": "https://localhost:8080/"
    },
    "id": "jqkvdcFv41wC",
    "outputId": "2d3a3bcb-1e2e-4523-f651-38b7b0bb3674"
   },
   "outputs": [
    {
     "name": "stdout",
     "output_type": "stream",
     "text": [
      "texts:  [b'This low-budget erotic thriller that has some good points, but a lot more bad one. The plot revolves around a female lawyer trying to clear her lover who is accused of murdering his wife. Being a soft-core film, that entails her going undercover at a strip club and having sex with possible suspects. As plots go for this type of genre, not to bad. The script is okay, and the story makes enough sense for someone up at 2 AM watching this not to notice too many plot holes. But everything else in the film seems cheap. The lead actors aren\\'t that bad, but pretty much all the supporting ones are unbelievably bad (one girl seems like she is drunk and/or high). The cinematography is badly lit, with everything looking grainy and ugly. The sound is so terrible that you can barely hear what people are saying. The worst thing in this movie is the reason you\\'re watching it-the sex. The reason people watch these things is for hot sex scenes featuring really hot girls in Red Shoe Diary situations. The sex scenes aren\\'t hot they\\'re sleazy, shot in that porno style where everything is just a master shot of two people going at it. The woman also look like they are refuges from a porn shoot. I\\'m not trying to be rude or mean here, but they all have that breast implants and a burned out/weathered look. Even the title, \"Deviant Obsession\", sounds like a Hardcore flick. Not that I don\\'t have anything against porn - in fact I love it. But I want my soft-core and my hard-core separate. What ever happened to actresses like Shannon Tweed, Jacqueline Lovell, Shannon Whirry and Kim Dawson? Women that could act and who would totally arouse you? And what happened to B erotic thrillers like Body Chemistry, Nighteyes and even Stripped to Kill. Sure, none of these where masterpieces, but at least they felt like movies. Plus, they were pushing the envelope, going beyond Hollywood\\'s relatively prude stance on sex, sexual obsessions and perversions. Now they just make hard-core films without the hard-core sex.'\n",
      " b'Two great comedians in a great Neil Simon movie based on his hit play.<br /><br />Great combination, especially when the comedians in question are Matthau and Burns. Small wonder why Burns won an Oscar for this; he\\'s as sharp and as funny as ever. And Matthau is every bit his match, if a tad more crotchety.<br /><br />This is familiar Simon territory: two old vaudeville partners reunite for a TV special but still can\\'t stand one another after all these years.<br /><br />It\\'s a delight to watch these two pick at each other, their scenes together make this film an absolute delight. Myself, I especially enjoyed the \"knock, knock, knock / ENTER!\" scene. And if you\\'re a fan of either Burns or Matthau, you\\'ll enjoy it, too.<br /><br />In fact, you\\'ll enjoy the whole movie. <br /><br />Ten stars. Put a little \"Sunshine\" in your life.'\n",
      " b'So many wonderful actresses in one film serve as a practical invitation to the local movie house so I duly responded. Here are some remarks..<br /><br />Vanessa Redgrave is great even while lying in bed. She also looks very old and I don\\'t think this is achieved with much make-up which is a good thing for the film but a sad thing for us cinema-goers. I think her aging got a bit harsh in recent years. Claire Danes continues her welcome return to the movies and exudes a definite warmth. Mamie Gummer\\'s resemblance to her mother Merly Streep both in terms of physical appearance and acting style is so striking that I lost my concentration to the film for a couple of minutes after her entrance. She is surprisingly good; however such a resemblance has the danger of working against her favor. I agree with a previous comment: Natasha Richardson definitely had some plastic job done to her face. She certainly does not look like how I remember her from previous films (\"Nell\" for example.) Both she and Toni Collette sadly do not make much impression partly because they do not look convincing as sisters. Their interplay is weak. Toni Collette additionally is way too old for her character. Glenn Close and Meryl Streep had to have more screen time. Streep\\'s performance actually is little more than a cameo. Her scenes on the other hand have bigger emotional resonance than the rest of the film. Eileen Atkins provides some welcome dry wit, especially in her second role as an imaginary nighttime companion to Redgrave\\'s character. As for the men; Hugh Dancy enlivenes the film considerably even though he gives a broader performance than needed. As a matter of fact as soon as he exits the story it starts to drag. It is also to his credit that he manages to create the exact necessary sense of boyish charm in the viewer. Patrick Wilson on the other hand is a complete void at the center of the film. He also has the misfortune that the script is insufficient in explaining why three people (one of them a man) are so much smitten by this man. The backstory to this should have been developed more.<br /><br />The cinematography is excellent as expected. However the main summer house set failed to convince me. It does not look natural on the top of that rocky hill, particularly with its grass patch in the front. A bit too cardboard like.<br /><br />Overall, the film is a classy production, but a seen-it-all-before, cried-at-it-all-before feeling took over me during most of its duration and consequently it failed to make the kind of impact on me that I expected from a tearjerker. However, it still managed to make me thoughtful about the passing of time, about one\\'s expectations from life and the extent to which these are fulfilled or not. Worth trying at least on DVD if not at the movies...']\n",
      "\n",
      "labels:  [1 1 1]\n"
     ]
    }
   ],
   "source": [
    "for example, label in train_dataset.take(1):\n",
    "  print('texts: ', example.numpy()[:3])\n",
    "  print()\n",
    "  print('labels: ', label.numpy()[:3])"
   ]
  },
  {
   "cell_type": "code",
   "execution_count": null,
   "metadata": {
    "id": "uC25Lu1Yvuqy"
   },
   "outputs": [],
   "source": [
    "VOCAB_SIZE = 1000\n",
    "encoder = tf.keras.layers.TextVectorization(\n",
    "    max_tokens=VOCAB_SIZE)\n",
    "encoder.adapt(train_dataset.map(lambda text, label: text))"
   ]
  },
  {
   "cell_type": "code",
   "execution_count": null,
   "metadata": {
    "colab": {
     "base_uri": "https://localhost:8080/"
    },
    "id": "tBoyjjWg0Ac9",
    "outputId": "047753ac-c83e-4b59-a773-64cfa13eeea9"
   },
   "outputs": [
    {
     "data": {
      "text/plain": [
       "array(['', '[UNK]', 'the', 'and', 'a', 'of', 'to', 'is', 'in', 'it', 'i',\n",
       "       'this', 'that', 'br', 'was', 'as', 'for', 'with', 'movie', 'but'],\n",
       "      dtype='<U14')"
      ]
     },
     "execution_count": 9,
     "metadata": {},
     "output_type": "execute_result"
    }
   ],
   "source": [
    "vocab = np.array(encoder.get_vocabulary())\n",
    "vocab[:20]"
   ]
  },
  {
   "cell_type": "code",
   "execution_count": null,
   "metadata": {
    "colab": {
     "base_uri": "https://localhost:8080/"
    },
    "id": "RGc7C9WiwRWs",
    "outputId": "87414d1b-f9ef-473e-b7b3-6e701069fe4a"
   },
   "outputs": [
    {
     "data": {
      "text/plain": [
       "array([[ 11,   1,   1, ...,   0,   0,   0],\n",
       "       [105,  85,   1, ...,   0,   0,   0],\n",
       "       [ 38, 106, 374, ...,   0,   0,   0]])"
      ]
     },
     "execution_count": 10,
     "metadata": {},
     "output_type": "execute_result"
    }
   ],
   "source": [
    "encoded_example = encoder(example)[:3].numpy()\n",
    "encoded_example"
   ]
  },
  {
   "cell_type": "code",
   "execution_count": null,
   "metadata": {
    "colab": {
     "base_uri": "https://localhost:8080/"
    },
    "id": "N_tD0QY5wXaK",
    "outputId": "b997753c-baa7-4adc-c262-40d902bb2612"
   },
   "outputs": [
    {
     "name": "stdout",
     "output_type": "stream",
     "text": [
      "Original:  b'This low-budget erotic thriller that has some good points, but a lot more bad one. The plot revolves around a female lawyer trying to clear her lover who is accused of murdering his wife. Being a soft-core film, that entails her going undercover at a strip club and having sex with possible suspects. As plots go for this type of genre, not to bad. The script is okay, and the story makes enough sense for someone up at 2 AM watching this not to notice too many plot holes. But everything else in the film seems cheap. The lead actors aren\\'t that bad, but pretty much all the supporting ones are unbelievably bad (one girl seems like she is drunk and/or high). The cinematography is badly lit, with everything looking grainy and ugly. The sound is so terrible that you can barely hear what people are saying. The worst thing in this movie is the reason you\\'re watching it-the sex. The reason people watch these things is for hot sex scenes featuring really hot girls in Red Shoe Diary situations. The sex scenes aren\\'t hot they\\'re sleazy, shot in that porno style where everything is just a master shot of two people going at it. The woman also look like they are refuges from a porn shoot. I\\'m not trying to be rude or mean here, but they all have that breast implants and a burned out/weathered look. Even the title, \"Deviant Obsession\", sounds like a Hardcore flick. Not that I don\\'t have anything against porn - in fact I love it. But I want my soft-core and my hard-core separate. What ever happened to actresses like Shannon Tweed, Jacqueline Lovell, Shannon Whirry and Kim Dawson? Women that could act and who would totally arouse you? And what happened to B erotic thrillers like Body Chemistry, Nighteyes and even Stripped to Kill. Sure, none of these where masterpieces, but at least they felt like movies. Plus, they were pushing the envelope, going beyond Hollywood\\'s relatively prude stance on sex, sexual obsessions and perversions. Now they just make hard-core films without the hard-core sex.'\n",
      "Round-trip:  this [UNK] [UNK] thriller that has some good points but a lot more bad one the plot [UNK] around a female [UNK] trying to clear her [UNK] who is [UNK] of [UNK] his wife being a [UNK] film that [UNK] her going [UNK] at a [UNK] [UNK] and having sex with possible [UNK] as [UNK] go for this type of genre not to bad the script is okay and the story makes enough sense for someone up at 2 am watching this not to [UNK] too many plot [UNK] but everything else in the film seems cheap the lead actors arent that bad but pretty much all the supporting ones are [UNK] bad one girl seems like she is [UNK] [UNK] high the cinematography is badly [UNK] with everything looking [UNK] and [UNK] the sound is so terrible that you can [UNK] hear what people are saying the worst thing in this movie is the reason youre watching [UNK] sex the reason people watch these things is for hot sex scenes [UNK] really hot girls in red [UNK] [UNK] [UNK] the sex scenes arent hot theyre [UNK] shot in that [UNK] style where everything is just a [UNK] shot of two people going at it the woman also look like they are [UNK] from a [UNK] [UNK] im not trying to be [UNK] or mean here but they all have that [UNK] [UNK] and a [UNK] [UNK] look even the title [UNK] [UNK] sounds like a [UNK] flick not that i dont have anything against [UNK] in fact i love it but i want my [UNK] and my [UNK] [UNK] what ever happened to [UNK] like [UNK] [UNK] [UNK] [UNK] [UNK] [UNK] and [UNK] [UNK] women that could act and who would totally [UNK] you and what happened to b [UNK] [UNK] like body [UNK] [UNK] and even [UNK] to kill sure none of these where [UNK] but at least they felt like movies plus they were [UNK] the [UNK] going beyond [UNK] [UNK] [UNK] [UNK] on sex sexual [UNK] and [UNK] now they just make [UNK] films without the [UNK] sex                                                                                                                                                                                                                                                                                                                                                                                                                             \n",
      "\n",
      "Original:  b'Two great comedians in a great Neil Simon movie based on his hit play.<br /><br />Great combination, especially when the comedians in question are Matthau and Burns. Small wonder why Burns won an Oscar for this; he\\'s as sharp and as funny as ever. And Matthau is every bit his match, if a tad more crotchety.<br /><br />This is familiar Simon territory: two old vaudeville partners reunite for a TV special but still can\\'t stand one another after all these years.<br /><br />It\\'s a delight to watch these two pick at each other, their scenes together make this film an absolute delight. Myself, I especially enjoyed the \"knock, knock, knock / ENTER!\" scene. And if you\\'re a fan of either Burns or Matthau, you\\'ll enjoy it, too.<br /><br />In fact, you\\'ll enjoy the whole movie. <br /><br />Ten stars. Put a little \"Sunshine\" in your life.'\n",
      "Round-trip:  two great [UNK] in a great [UNK] [UNK] movie based on his hit [UNK] br great [UNK] especially when the [UNK] in question are [UNK] and [UNK] small wonder why [UNK] [UNK] an oscar for this hes as [UNK] and as funny as ever and [UNK] is every bit his [UNK] if a [UNK] more [UNK] br this is [UNK] [UNK] [UNK] two old [UNK] [UNK] [UNK] for a tv special but still cant stand one another after all these [UNK] br its a [UNK] to watch these two [UNK] at each other their scenes together make this film an [UNK] [UNK] myself i especially enjoyed the [UNK] [UNK] [UNK] [UNK] scene and if youre a fan of either [UNK] or [UNK] youll enjoy it [UNK] br in fact youll enjoy the whole movie br br ten stars put a little [UNK] in your life                                                                                                                                                                                                                                                                                                                                                                                                                                                                                                                                                                                                                                            \n",
      "\n",
      "Original:  b'So many wonderful actresses in one film serve as a practical invitation to the local movie house so I duly responded. Here are some remarks..<br /><br />Vanessa Redgrave is great even while lying in bed. She also looks very old and I don\\'t think this is achieved with much make-up which is a good thing for the film but a sad thing for us cinema-goers. I think her aging got a bit harsh in recent years. Claire Danes continues her welcome return to the movies and exudes a definite warmth. Mamie Gummer\\'s resemblance to her mother Merly Streep both in terms of physical appearance and acting style is so striking that I lost my concentration to the film for a couple of minutes after her entrance. She is surprisingly good; however such a resemblance has the danger of working against her favor. I agree with a previous comment: Natasha Richardson definitely had some plastic job done to her face. She certainly does not look like how I remember her from previous films (\"Nell\" for example.) Both she and Toni Collette sadly do not make much impression partly because they do not look convincing as sisters. Their interplay is weak. Toni Collette additionally is way too old for her character. Glenn Close and Meryl Streep had to have more screen time. Streep\\'s performance actually is little more than a cameo. Her scenes on the other hand have bigger emotional resonance than the rest of the film. Eileen Atkins provides some welcome dry wit, especially in her second role as an imaginary nighttime companion to Redgrave\\'s character. As for the men; Hugh Dancy enlivenes the film considerably even though he gives a broader performance than needed. As a matter of fact as soon as he exits the story it starts to drag. It is also to his credit that he manages to create the exact necessary sense of boyish charm in the viewer. Patrick Wilson on the other hand is a complete void at the center of the film. He also has the misfortune that the script is insufficient in explaining why three people (one of them a man) are so much smitten by this man. The backstory to this should have been developed more.<br /><br />The cinematography is excellent as expected. However the main summer house set failed to convince me. It does not look natural on the top of that rocky hill, particularly with its grass patch in the front. A bit too cardboard like.<br /><br />Overall, the film is a classy production, but a seen-it-all-before, cried-at-it-all-before feeling took over me during most of its duration and consequently it failed to make the kind of impact on me that I expected from a tearjerker. However, it still managed to make me thoughtful about the passing of time, about one\\'s expectations from life and the extent to which these are fulfilled or not. Worth trying at least on DVD if not at the movies...'\n",
      "Round-trip:  so many wonderful [UNK] in one film [UNK] as a [UNK] [UNK] to the local movie house so i [UNK] [UNK] here are some [UNK] br [UNK] [UNK] is great even while [UNK] in [UNK] she also looks very old and i dont think this is [UNK] with much [UNK] which is a good thing for the film but a sad thing for us [UNK] i think her [UNK] got a bit [UNK] in [UNK] years [UNK] [UNK] [UNK] her [UNK] return to the movies and [UNK] a [UNK] [UNK] [UNK] [UNK] [UNK] to her mother [UNK] [UNK] both in [UNK] of [UNK] [UNK] and acting style is so [UNK] that i lost my [UNK] to the film for a couple of minutes after her [UNK] she is [UNK] good however such a [UNK] has the [UNK] of working against her [UNK] i [UNK] with a previous comment [UNK] [UNK] definitely had some [UNK] job done to her face she certainly does not look like how i remember her from previous films [UNK] for example both she and [UNK] [UNK] [UNK] do not make much [UNK] [UNK] because they do not look [UNK] as [UNK] their [UNK] is weak [UNK] [UNK] [UNK] is way too old for her character [UNK] close and [UNK] [UNK] had to have more screen time [UNK] performance actually is little more than a [UNK] her scenes on the other hand have [UNK] emotional [UNK] than the rest of the film [UNK] [UNK] [UNK] some [UNK] [UNK] [UNK] especially in her second role as an [UNK] [UNK] [UNK] to [UNK] character as for the men [UNK] [UNK] [UNK] the film [UNK] even though he gives a [UNK] performance than needed as a matter of fact as soon as he [UNK] the story it starts to [UNK] it is also to his [UNK] that he manages to create the [UNK] [UNK] sense of [UNK] [UNK] in the viewer [UNK] [UNK] on the other hand is a complete [UNK] at the [UNK] of the film he also has the [UNK] that the script is [UNK] in [UNK] why three people one of them a man are so much [UNK] by this man the [UNK] to this should have been [UNK] [UNK] br the cinematography is excellent as expected however the main [UNK] house set [UNK] to [UNK] me it does not look [UNK] on the top of that [UNK] [UNK] particularly with its [UNK] [UNK] in the [UNK] a bit too [UNK] [UNK] br overall the film is a [UNK] production but a [UNK] [UNK] feeling took over me during most of its [UNK] and [UNK] it [UNK] to make the kind of [UNK] on me that i expected from a [UNK] however it still [UNK] to make me [UNK] about the [UNK] of time about ones [UNK] from life and the [UNK] to which these are [UNK] or not worth trying at least on dvd if not at the movies                                                                                                                                                                                                                                                                                \n",
      "\n"
     ]
    }
   ],
   "source": [
    "for n in range(3):\n",
    "  print(\"Original: \", example[n].numpy())\n",
    "  print(\"Round-trip: \", \" \".join(vocab[encoded_example[n]]))\n",
    "  print()"
   ]
  },
  {
   "cell_type": "code",
   "execution_count": null,
   "metadata": {
    "id": "LwfoBkmRYcP3"
   },
   "outputs": [],
   "source": [
    "model = tf.keras.Sequential([\n",
    "    encoder,\n",
    "    tf.keras.layers.Embedding(\n",
    "        input_dim=len(encoder.get_vocabulary()),\n",
    "        output_dim=64,\n",
    "        # Use masking to handle the variable sequence lengths\n",
    "        mask_zero=True),\n",
    "    tf.keras.layers.Bidirectional(tf.keras.layers.LSTM(64)),\n",
    "    tf.keras.layers.Dense(64, activation='relu'),\n",
    "    tf.keras.layers.Dense(1)\n",
    "])"
   ]
  },
  {
   "cell_type": "code",
   "execution_count": null,
   "metadata": {
    "colab": {
     "base_uri": "https://localhost:8080/"
    },
    "id": "87a8-CwfKebw",
    "outputId": "ad707158-c556-4f34-cfea-dca9cf024b1d"
   },
   "outputs": [
    {
     "name": "stdout",
     "output_type": "stream",
     "text": [
      "[False, True, True, True, True]\n"
     ]
    }
   ],
   "source": [
    "print([layer.supports_masking for layer in model.layers])"
   ]
  },
  {
   "cell_type": "code",
   "execution_count": null,
   "metadata": {
    "colab": {
     "base_uri": "https://localhost:8080/"
    },
    "id": "O41gw3KfWHus",
    "outputId": "00ce0d33-f5fe-4139-e694-6535ff3f0390"
   },
   "outputs": [
    {
     "name": "stdout",
     "output_type": "stream",
     "text": [
      "1/1 [==============================] - 7s 7s/step\n",
      "[-0.00279186]\n"
     ]
    }
   ],
   "source": [
    "# predict on a sample text without padding.\n",
    "\n",
    "sample_text = ('The movie was cool. The animation and the graphics '\n",
    "               'were out of this world. I would recommend this movie.')\n",
    "predictions = model.predict(np.array([sample_text]))\n",
    "print(predictions[0])"
   ]
  },
  {
   "cell_type": "code",
   "execution_count": null,
   "metadata": {
    "colab": {
     "base_uri": "https://localhost:8080/"
    },
    "id": "UIgpuTeFNDzq",
    "outputId": "02002f78-4a25-4225-d4ce-41707970f14a"
   },
   "outputs": [
    {
     "name": "stdout",
     "output_type": "stream",
     "text": [
      "1/1 [==============================] - 0s 124ms/step\n",
      "[-0.00279186]\n"
     ]
    }
   ],
   "source": [
    "# predict on a sample text with padding\n",
    "\n",
    "padding = \"the \" * 2000\n",
    "predictions = model.predict(np.array([sample_text, padding]))\n",
    "print(predictions[0])"
   ]
  },
  {
   "cell_type": "code",
   "execution_count": null,
   "metadata": {
    "id": "kj2xei41YZjC"
   },
   "outputs": [],
   "source": [
    "model.compile(loss=tf.keras.losses.BinaryCrossentropy(from_logits=True),\n",
    "              optimizer=tf.keras.optimizers.Adam(1e-4),\n",
    "              metrics=['accuracy'])"
   ]
  },
  {
   "cell_type": "code",
   "execution_count": null,
   "metadata": {
    "colab": {
     "base_uri": "https://localhost:8080/"
    },
    "id": "hw86wWS4YgR2",
    "outputId": "fe17ca0d-cd17-4a74-e674-2c3f8e07b2cf"
   },
   "outputs": [
    {
     "name": "stdout",
     "output_type": "stream",
     "text": [
      "Epoch 1/10\n",
      "391/391 [==============================] - 42s 87ms/step - loss: 0.6411 - accuracy: 0.5663 - val_loss: 0.4676 - val_accuracy: 0.7823\n",
      "Epoch 2/10\n",
      "391/391 [==============================] - 33s 84ms/step - loss: 0.3809 - accuracy: 0.8254 - val_loss: 0.3618 - val_accuracy: 0.8453\n",
      "Epoch 3/10\n",
      "391/391 [==============================] - 33s 83ms/step - loss: 0.3320 - accuracy: 0.8536 - val_loss: 0.3414 - val_accuracy: 0.8510\n",
      "Epoch 4/10\n",
      "391/391 [==============================] - 32s 81ms/step - loss: 0.3155 - accuracy: 0.8631 - val_loss: 0.3302 - val_accuracy: 0.8562\n",
      "Epoch 5/10\n",
      "391/391 [==============================] - 32s 81ms/step - loss: 0.3098 - accuracy: 0.8645 - val_loss: 0.3303 - val_accuracy: 0.8562\n",
      "Epoch 6/10\n",
      "391/391 [==============================] - 32s 82ms/step - loss: 0.3052 - accuracy: 0.8671 - val_loss: 0.3200 - val_accuracy: 0.8542\n",
      "Epoch 7/10\n",
      "391/391 [==============================] - 32s 82ms/step - loss: 0.3005 - accuracy: 0.8698 - val_loss: 0.3211 - val_accuracy: 0.8531\n",
      "Epoch 8/10\n",
      "391/391 [==============================] - 32s 82ms/step - loss: 0.2996 - accuracy: 0.8714 - val_loss: 0.3302 - val_accuracy: 0.8578\n",
      "Epoch 9/10\n",
      "391/391 [==============================] - 32s 81ms/step - loss: 0.2981 - accuracy: 0.8697 - val_loss: 0.3233 - val_accuracy: 0.8531\n",
      "Epoch 10/10\n",
      "391/391 [==============================] - 32s 82ms/step - loss: 0.2982 - accuracy: 0.8714 - val_loss: 0.3196 - val_accuracy: 0.8531\n"
     ]
    }
   ],
   "source": [
    "history = model.fit(train_dataset, epochs=10,\n",
    "                    validation_data=test_dataset,\n",
    "                    validation_steps=30)"
   ]
  },
  {
   "cell_type": "code",
   "execution_count": null,
   "metadata": {
    "colab": {
     "base_uri": "https://localhost:8080/"
    },
    "id": "BaNbXi43YgUT",
    "outputId": "7625a83c-c726-401e-f4e4-7cd76dc5ab84"
   },
   "outputs": [
    {
     "name": "stdout",
     "output_type": "stream",
     "text": [
      "391/391 [==============================] - 19s 48ms/step - loss: 0.3149 - accuracy: 0.8603\n",
      "Test Loss: 0.3149417042732239\n",
      "Test Accuracy: 0.8602799773216248\n"
     ]
    }
   ],
   "source": [
    "test_loss, test_acc = model.evaluate(test_dataset)\n",
    "\n",
    "print('Test Loss:', test_loss)\n",
    "print('Test Accuracy:', test_acc)"
   ]
  },
  {
   "cell_type": "code",
   "execution_count": null,
   "metadata": {
    "colab": {
     "base_uri": "https://localhost:8080/",
     "height": 519
    },
    "id": "OZmwt_mzaQJk",
    "outputId": "bc5f23d9-5210-4abf-9c6b-8d6ba2ce2804"
   },
   "outputs": [
    {
     "data": {
      "text/plain": [
       "(0.0, 0.6582627460360527)"
      ]
     },
     "execution_count": 19,
     "metadata": {},
     "output_type": "execute_result"
    },
    {
     "data": {
      "image/png": "[encoded data removed]",
      "text/plain": [
       "<Figure size 1152x576 with 2 Axes>"
      ]
     },
     "metadata": {
      "needs_background": "light"
     },
     "output_type": "display_data"
    }
   ],
   "source": [
    "plt.figure(figsize=(16, 8))\n",
    "plt.subplot(1, 2, 1)\n",
    "plot_graphs(history, 'accuracy')\n",
    "plt.ylim(None, 1)\n",
    "plt.subplot(1, 2, 2)\n",
    "plot_graphs(history, 'loss')\n",
    "plt.ylim(0, None)"
   ]
  },
  {
   "cell_type": "code",
   "execution_count": null,
   "metadata": {
    "colab": {
     "base_uri": "https://localhost:8080/"
    },
    "id": "ZXgfQSgRW6zU",
    "outputId": "5bec9321-55a9-4cd8-e162-d1f7e62c9cec"
   },
   "outputs": [
    {
     "name": "stdout",
     "output_type": "stream",
     "text": [
      "1/1 [==============================] - 2s 2s/step\n"
     ]
    }
   ],
   "source": [
    "sample_text = ('The movie was cool. The animation and the graphics '\n",
    "               'were out of this world. I would recommend this movie.')\n",
    "predictions = model.predict(np.array([sample_text]))"
   ]
  },
  {
   "cell_type": "code",
   "execution_count": null,
   "metadata": {
    "id": "jo1jjO3vn0jo"
   },
   "outputs": [],
   "source": [
    "model = tf.keras.Sequential([\n",
    "    encoder,\n",
    "    tf.keras.layers.Embedding(len(encoder.get_vocabulary()), 64, mask_zero=True),\n",
    "    tf.keras.layers.Bidirectional(tf.keras.layers.LSTM(64,  return_sequences=True)),\n",
    "    tf.keras.layers.Bidirectional(tf.keras.layers.LSTM(32)),\n",
    "    tf.keras.layers.Dense(64, activation='relu'),\n",
    "    tf.keras.layers.Dropout(0.5),\n",
    "    tf.keras.layers.Dense(1)\n",
    "])"
   ]
  },
  {
   "cell_type": "code",
   "execution_count": null,
   "metadata": {
    "id": "hEPV5jVGp-is"
   },
   "outputs": [],
   "source": [
    "model.compile(loss=tf.keras.losses.BinaryCrossentropy(from_logits=True),\n",
    "              optimizer=tf.keras.optimizers.Adam(1e-4),\n",
    "              metrics=['accuracy'])"
   ]
  },
  {
   "cell_type": "code",
   "execution_count": null,
   "metadata": {
    "colab": {
     "base_uri": "https://localhost:8080/"
    },
    "id": "LeSE-YjdqAeN",
    "outputId": "f086d83c-97f8-4781-b2c0-723c5e5a778b"
   },
   "outputs": [
    {
     "name": "stdout",
     "output_type": "stream",
     "text": [
      "Epoch 1/10\n",
      "391/391 [==============================] - 74s 153ms/step - loss: 0.6117 - accuracy: 0.6106 - val_loss: 0.4201 - val_accuracy: 0.8219\n",
      "Epoch 2/10\n",
      "391/391 [==============================] - 55s 141ms/step - loss: 0.3816 - accuracy: 0.8317 - val_loss: 0.3680 - val_accuracy: 0.8323\n",
      "Epoch 3/10\n",
      "391/391 [==============================] - 55s 140ms/step - loss: 0.3382 - accuracy: 0.8542 - val_loss: 0.3321 - val_accuracy: 0.8510\n",
      "Epoch 4/10\n",
      "391/391 [==============================] - 55s 139ms/step - loss: 0.3197 - accuracy: 0.8657 - val_loss: 0.3204 - val_accuracy: 0.8484\n",
      "Epoch 5/10\n",
      "391/391 [==============================] - 56s 142ms/step - loss: 0.3097 - accuracy: 0.8689 - val_loss: 0.3182 - val_accuracy: 0.8557\n",
      "Epoch 6/10\n",
      "391/391 [==============================] - 54s 139ms/step - loss: 0.3060 - accuracy: 0.8712 - val_loss: 0.3178 - val_accuracy: 0.8521\n",
      "Epoch 7/10\n",
      "391/391 [==============================] - 55s 141ms/step - loss: 0.3042 - accuracy: 0.8702 - val_loss: 0.3305 - val_accuracy: 0.8661\n",
      "Epoch 8/10\n",
      "391/391 [==============================] - 54s 138ms/step - loss: 0.2997 - accuracy: 0.8722 - val_loss: 0.3184 - val_accuracy: 0.8594\n",
      "Epoch 9/10\n",
      "391/391 [==============================] - 55s 141ms/step - loss: 0.2979 - accuracy: 0.8741 - val_loss: 0.3259 - val_accuracy: 0.8562\n",
      "Epoch 10/10\n",
      "391/391 [==============================] - 54s 138ms/step - loss: 0.2910 - accuracy: 0.8765 - val_loss: 0.3172 - val_accuracy: 0.8620\n"
     ]
    }
   ],
   "source": [
    "history = model.fit(train_dataset, epochs=10,\n",
    "                    validation_data=test_dataset,\n",
    "                    validation_steps=30)"
   ]
  },
  {
   "cell_type": "code",
   "execution_count": null,
   "metadata": {
    "colab": {
     "base_uri": "https://localhost:8080/"
    },
    "id": "_LdwilM1qPM3",
    "outputId": "a90b9914-884a-4253-8019-3fcb6bab23ae"
   },
   "outputs": [
    {
     "name": "stdout",
     "output_type": "stream",
     "text": [
      "391/391 [==============================] - 29s 73ms/step - loss: 0.3150 - accuracy: 0.8618\n",
      "Test Loss: 0.3149975836277008\n",
      "Test Accuracy: 0.861840009689331\n"
     ]
    }
   ],
   "source": [
    "test_loss, test_acc = model.evaluate(test_dataset)\n",
    "\n",
    "print('Test Loss:', test_loss)\n",
    "print('Test Accuracy:', test_acc)"
   ]
  },
  {
   "cell_type": "code",
   "execution_count": null,
   "metadata": {
    "colab": {
     "base_uri": "https://localhost:8080/"
    },
    "id": "ykUKnAoqbycW",
    "outputId": "c0b6dcfb-8dda-46ea-a54d-3b4f49bb476e"
   },
   "outputs": [
    {
     "name": "stdout",
     "output_type": "stream",
     "text": [
      "1/1 [==============================] - 4s 4s/step\n",
      "[[-1.6433089]]\n"
     ]
    }
   ],
   "source": [
    "# predict on a sample text without padding.\n",
    "\n",
    "sample_text = ('The movie was not good. The animation and the graphics '\n",
    "               'were terrible. I would not recommend this movie.')\n",
    "predictions = model.predict(np.array([sample_text]))\n",
    "print(predictions)"
   ]
  },
  {
   "cell_type": "code",
   "execution_count": null,
   "metadata": {
    "colab": {
     "base_uri": "https://localhost:8080/",
     "height": 388
    },
    "id": "_YYub0EDtwCu",
    "outputId": "0adde1b0-621c-4f80-b27d-c06eeb492827"
   },
   "outputs": [
    {
     "data": {
      "image/png": "[encoded data removed]",
      "text/plain": [
       "<Figure size 1152x432 with 2 Axes>"
      ]
     },
     "metadata": {
      "needs_background": "light"
     },
     "output_type": "display_data"
    }
   ],
   "source": [
    "plt.figure(figsize=(16, 6))\n",
    "plt.subplot(1, 2, 1)\n",
    "plot_graphs(history, 'accuracy')\n",
    "plt.subplot(1, 2, 2)\n",
    "plot_graphs(history, 'loss')"
   ]
  },
  {
   "cell_type": "code",
   "execution_count": null,
   "metadata": {
    "id": "QUTd0arrHNKZ"
   },
   "outputs": [],
   "source": []
  }
 ],
 "metadata": {
  "accelerator": "GPU",
  "colab": {
   "collapsed_sections": [],
   "provenance": [],
   "toc_visible": true
  },
  "kernelspec": {
   "display_name": "Python 3 (ipykernel)",
   "language": "python",
   "name": "python3"
  },
  "language_info": {
   "codemirror_mode": {
    "name": "ipython",
    "version": 3
   },
   "file_extension": ".py",
   "mimetype": "text/x-python",
   "name": "python",
   "nbconvert_exporter": "python",
   "pygments_lexer": "ipython3",
   "version": "3.11.0"
  }
 },
 "nbformat": 4,
 "nbformat_minor": 1
}
