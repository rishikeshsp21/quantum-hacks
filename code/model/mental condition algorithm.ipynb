{
 "cells": [
  {
   "cell_type": "code",
   "execution_count": 1,
   "id": "03dd460f",
   "metadata": {},
   "outputs": [],
   "source": [
    "global mental_conditions, mental_state, payoff_motion_still, mental_condition_payoffs\n",
    "mental_conditions= [\"depression\", \"anxiety\", \" stress\", \"frustration\", \"paranoia\"]  # defining the labels\n",
    "payoff_motion_still = {\"motion\":[0.1,0.5,0.4,0,0], \"still\":[0.4,0,0,0,0]}"
   ]
  },
  {
   "cell_type": "code",
   "execution_count": 1,
   "id": "3e89639a",
   "metadata": {},
   "outputs": [
    {
     "ename": "ModuleNotFoundError",
     "evalue": "No module named 'sentimentmodel'",
     "output_type": "error",
     "traceback": [
      "\u001b[1;31m---------------------------------------------------------------------------\u001b[0m",
      "\u001b[1;31mModuleNotFoundError\u001b[0m                       Traceback (most recent call last)",
      "Cell \u001b[1;32mIn [1], line 1\u001b[0m\n\u001b[1;32m----> 1\u001b[0m \u001b[38;5;28;01mimport\u001b[39;00m \u001b[38;5;21;01msentimentmodel\u001b[39;00m\n",
      "\u001b[1;31mModuleNotFoundError\u001b[0m: No module named 'sentimentmodel'"
     ]
    }
   ],
   "source": [
    "import sentimentmodel"
   ]
  },
  {
   "cell_type": "code",
   "execution_count": 3,
   "id": "9ee0fbce",
   "metadata": {},
   "outputs": [
    {
     "name": "stdout",
     "output_type": "stream",
     "text": [
      "animals\n",
      "innuendo\n",
      "mythical\n",
      "person\n",
      "fights\n"
     ]
    }
   ],
   "source": [
    "global valuemap\n",
    "valuemap = {                                                  # ranking all the observable elements in an inkblot and providing \n",
    "    \"animals\": [0.0,0.0,0.0,0.0,0.0],\n",
    "    \"innuendo\": [0.5,0.4,0.3,0.2,0.0],\n",
    "    \"mythical\": [0.0,0.4,0.3,0.1,0],\n",
    "    \"person\": [0,0,0.4,0.0,0.4],\n",
    "    \"fights\": [0.5,0.4,0.3,0.2,0.1]\n",
    "}\n",
    "for i in valuemap:\n",
    "    print(i)"
   ]
  },
  {
   "cell_type": "code",
   "execution_count": 4,
   "id": "7905be19",
   "metadata": {},
   "outputs": [
    {
     "name": "stdout",
     "output_type": "stream",
     "text": [
      "{'animals': [0.0, 0.0, 0.0, 0.0, 0.0], 'innuendo': [0.5, 0.4, 0.3, 0.2, 0.0], 'mythical': [0.0, 0.4, 0.3, 0.1, 0], 'person': [0, 0, 0.4, 0.0, 0.4], 'fights': [0.5, 0.4, 0.3, 0.2, 0.1]}\n"
     ]
    }
   ],
   "source": [
    "print(valuemap)"
   ]
  },
  {
   "cell_type": "code",
   "execution_count": 5,
   "id": "93c4f980",
   "metadata": {},
   "outputs": [],
   "source": [
    "def adding_payoffs(lst1,mental_condition_payoffs):    # function to add payoffs to the mental conditions of the patient \n",
    "    for i in range(len(lst1)):\n",
    "        mental_condition_payoffs[i] += lst1[i]\n",
    "    return "
   ]
  },
  {
   "cell_type": "code",
   "execution_count": 6,
   "id": "5c49593a",
   "metadata": {},
   "outputs": [],
   "source": [
    "def mappingfunction(elementlst):      # mapping values of elements to the conditions like depression, anxiety etc,\n",
    "    mental_condition_payoffs = [0,0,0,0,0]\n",
    "    global valuemap, mental_conditions, payoff_motion_still\n",
    "    \n",
    "    for keywords in elementlst:       # checks if the elements of the list are found in the possible elements\n",
    "        for conditions in valuemap:\n",
    "            if keywords in conditions:\n",
    "                adding_payoffs(valuemap[keywords],mental_condition_payoffs)\n",
    "            if keywords in payoff_motion_still:\n",
    "                adding_payoffs(payoff_motion_still[keywords], mental_condition_payoffs)\n",
    "    \n",
    "    return mental_condition_payoffs    # in the unlikely event where the element is not found in the possible elements the values are zero"
   ]
  },
  {
   "cell_type": "code",
   "execution_count": 7,
   "id": "10d674b0",
   "metadata": {},
   "outputs": [
    {
     "name": "stdout",
     "output_type": "stream",
     "text": [
      "[0.5, 2.5, 2.0, 0.0, 0.0]\n"
     ]
    }
   ],
   "source": [
    "elementlst = [\"animals\",\"motion\"]\n",
    "finalval = mappingfunction(elementlst)\n",
    "print(finalval)"
   ]
  },
  {
   "cell_type": "code",
   "execution_count": null,
   "id": "0215b7c6",
   "metadata": {},
   "outputs": [],
   "source": []
  },
  {
   "cell_type": "code",
   "execution_count": null,
   "id": "81087055",
   "metadata": {},
   "outputs": [],
   "source": []
  }
 ],
 "metadata": {
  "kernelspec": {
   "display_name": "Python 3 (ipykernel)",
   "language": "python",
   "name": "python3"
  },
  "language_info": {
   "codemirror_mode": {
    "name": "ipython",
    "version": 3
   },
   "file_extension": ".py",
   "mimetype": "text/x-python",
   "name": "python",
   "nbconvert_exporter": "python",
   "pygments_lexer": "ipython3",
   "version": "3.11.0"
  }
 },
 "nbformat": 4,
 "nbformat_minor": 5
}
